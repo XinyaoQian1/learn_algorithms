{
 "cells": [
  {
   "cell_type": "markdown",
   "metadata": {
    "collapsed": true
   },
   "source": [
    "## 列表"
   ]
  },
  {
   "cell_type": "code",
   "execution_count": 1,
   "metadata": {},
   "outputs": [],
   "source": [
    "list_1 = [12, 15.6, True, 'hello', ['a', 'b']]\n",
    "list_2 = [1, 2, 3, 4]\n",
    "list_3 = list('hello')   # ['h', 'e', 'l', 'l', 'o']\n",
    "list_4 = []"
   ]
  },
  {
   "cell_type": "markdown",
   "metadata": {},
   "source": [
    "### 增 Create"
   ]
  },
  {
   "cell_type": "code",
   "execution_count": 2,
   "metadata": {},
   "outputs": [
    {
     "data": {
      "text/plain": "[1, 2, 3, 4, 'h', 'e', 'l', 'l', 'o']"
     },
     "execution_count": 2,
     "metadata": {},
     "output_type": "execute_result"
    }
   ],
   "source": [
    "list_5 = list_2 + list_3\n",
    "list_5"
   ]
  },
  {
   "cell_type": "code",
   "execution_count": 3,
   "metadata": {},
   "outputs": [
    {
     "data": {
      "text/plain": "[1, 2, 3, 4, 1, 2, 3, 4, 1, 2, 3, 4]"
     },
     "execution_count": 3,
     "metadata": {},
     "output_type": "execute_result"
    }
   ],
   "source": [
    "list_2 * 3"
   ]
  },
  {
   "cell_type": "code",
   "execution_count": 4,
   "metadata": {},
   "outputs": [
    {
     "data": {
      "text/plain": "[1, 2, 3, 4, 'jiuzhang']"
     },
     "execution_count": 4,
     "metadata": {},
     "output_type": "execute_result"
    }
   ],
   "source": [
    "list_2.append('jiuzhang')\n",
    "list_2"
   ]
  },
  {
   "cell_type": "code",
   "execution_count": 5,
   "metadata": {},
   "outputs": [
    {
     "data": {
      "text/plain": "[1, 2, 'abc', 3, 4, 'jiuzhang']"
     },
     "execution_count": 5,
     "metadata": {},
     "output_type": "execute_result"
    }
   ],
   "source": [
    "list_2.insert(2, 'abc')\n",
    "list_2"
   ]
  },
  {
   "cell_type": "code",
   "execution_count": 26,
   "outputs": [
    {
     "name": "stdout",
     "output_type": "stream",
     "text": [
      "[4]\n"
     ]
    }
   ],
   "source": [
    "list = [4]\n",
    "print(list)"
   ],
   "metadata": {
    "collapsed": false,
    "pycharm": {
     "name": "#%%\n"
    }
   }
  },
  {
   "cell_type": "code",
   "execution_count": 24,
   "metadata": {},
   "outputs": [
    {
     "data": {
      "text/plain": "[1, 1, 3, 4, 'h', 'e', 'l', 'l', 'o', 'o', 'l', 'l', 'h', 'e']"
     },
     "execution_count": 24,
     "metadata": {},
     "output_type": "execute_result"
    }
   ],
   "source": [
    "list_2.extend(list_3)\n",
    "list_2"
   ]
  },
  {
   "cell_type": "markdown",
   "metadata": {},
   "source": [
    "### 查 Read"
   ]
  },
  {
   "cell_type": "code",
   "execution_count": 7,
   "metadata": {},
   "outputs": [
    {
     "name": "stdout",
     "output_type": "stream",
     "text": [
      "1 2 abc 3 4 jiuzhang h e l l o "
     ]
    }
   ],
   "source": [
    "for x in list_2:\n",
    "    print(x, end=' ')"
   ]
  },
  {
   "cell_type": "code",
   "execution_count": 8,
   "metadata": {},
   "outputs": [
    {
     "data": {
      "text/plain": "(1, 3, 'o')"
     },
     "execution_count": 8,
     "metadata": {},
     "output_type": "execute_result"
    }
   ],
   "source": [
    "list_2[0], list_2[3], list_2[-1]"
   ]
  },
  {
   "cell_type": "code",
   "execution_count": 30,
   "metadata": {},
   "outputs": [
    {
     "data": {
      "text/plain": "([1, 3, 4, 'h', 'e'],\n [1, 1, 3],\n [1, 3, 4, 'h', 'e', 'l', 'l', 'o', 'o', 'l', 'l', 'h', 'e'],\n [1, 1, 3, 4, 'h', 'e', 'l', 'l', 'o', 'o', 'l', 'l'])"
     },
     "execution_count": 30,
     "metadata": {},
     "output_type": "execute_result"
    }
   ],
   "source": [
    "list_2[1:6], list_2[:3], list_2[1:], list_2[:-2]"
   ]
  },
  {
   "cell_type": "code",
   "execution_count": 32,
   "outputs": [
    {
     "data": {
      "text/plain": "([1, 1, 3, 4, 'h', 'e', 'l', 'l', 'o', 'o', 'l', 'l', 'h'],\n [1, 3, 'h', 'l', 'o', 'l', 'h'])"
     },
     "execution_count": 32,
     "metadata": {},
     "output_type": "execute_result"
    }
   ],
   "source": [
    "list_2[0:-1],list_2[0:-1:2]"
   ],
   "metadata": {
    "collapsed": false,
    "pycharm": {
     "name": "#%%\n"
    }
   }
  },
  {
   "cell_type": "code",
   "execution_count": 10,
   "metadata": {},
   "outputs": [
    {
     "data": {
      "text/plain": "True"
     },
     "execution_count": 10,
     "metadata": {},
     "output_type": "execute_result"
    }
   ],
   "source": [
    "2 in list_2"
   ]
  },
  {
   "cell_type": "code",
   "execution_count": 34,
   "metadata": {},
   "outputs": [],
   "source": [
    "if 2 in list_2:\n",
    "    print(list_2.index(2))"
   ]
  },
  {
   "cell_type": "code",
   "execution_count": 35,
   "metadata": {},
   "outputs": [
    {
     "data": {
      "text/plain": "0"
     },
     "execution_count": 35,
     "metadata": {},
     "output_type": "execute_result"
    }
   ],
   "source": [
    "list_2.count(2)"
   ]
  },
  {
   "cell_type": "markdown",
   "metadata": {},
   "source": [
    "### 改 Update"
   ]
  },
  {
   "cell_type": "code",
   "execution_count": 36,
   "metadata": {},
   "outputs": [
    {
     "data": {
      "text/plain": "[1, 2, 100, 4, 5, 6, 7, 8, 9, 10]"
     },
     "execution_count": 36,
     "metadata": {},
     "output_type": "execute_result"
    }
   ],
   "source": [
    "list_2 = [1,2,3,4,5,6,7,8,9,10]\n",
    "list_2[2] = 100\n",
    "\n",
    "list_2"
   ]
  },
  {
   "cell_type": "code",
   "execution_count": 37,
   "metadata": {},
   "outputs": [
    {
     "data": {
      "text/plain": "[1, 20, 30, 40, 1, 2, 3, 4, 4, 5, 6, 7, 8, 9, 10]"
     },
     "execution_count": 37,
     "metadata": {},
     "output_type": "execute_result"
    }
   ],
   "source": [
    "list_2[1:3] = [20, 30, 40, 1, 2, 3, 4]\n",
    "list_2"
   ]
  },
  {
   "cell_type": "code",
   "execution_count": 15,
   "metadata": {},
   "outputs": [
    {
     "data": {
      "text/plain": "[1, 40, 1, 2, 3, 4, 3, 4, 'jiuzhang', 'h', 'e', 'l', 'l', 'o']"
     },
     "execution_count": 15,
     "metadata": {},
     "output_type": "execute_result"
    }
   ],
   "source": [
    "list_2[1:3] = []\n",
    "list_2"
   ]
  },
  {
   "cell_type": "markdown",
   "metadata": {},
   "source": [
    "### 删 Delete"
   ]
  },
  {
   "cell_type": "code",
   "execution_count": 42,
   "outputs": [
    {
     "name": "stdout",
     "output_type": "stream",
     "text": [
      "['p', 'r', 'b', 'l', 'e', 'm']\n",
      "['p', 'm']\n"
     ]
    }
   ],
   "source": [
    "# Deleting list items\n",
    "my_list = ['p', 'r', 'o', 'b', 'l', 'e', 'm']\n",
    "\n",
    "# delete one item\n",
    "del my_list[2]\n",
    "\n",
    "print(my_list)\n",
    "\n",
    "# delete multiple items\n",
    "del my_list[1:5]\n",
    "\n",
    "print(my_list)"
   ],
   "metadata": {
    "collapsed": false,
    "pycharm": {
     "name": "#%%\n"
    }
   }
  },
  {
   "cell_type": "code",
   "execution_count": null,
   "outputs": [],
   "source": [
    "\n",
    "# delete the entire list\n",
    "del my_list\n",
    "\n",
    "# Error: List not defined\n",
    "print(my_list)"
   ],
   "metadata": {
    "collapsed": false,
    "pycharm": {
     "name": "#%%\n"
    }
   }
  },
  {
   "cell_type": "markdown",
   "metadata": {},
   "source": [
    "### 其他"
   ]
  },
  {
   "cell_type": "code",
   "execution_count": 20,
   "metadata": {},
   "outputs": [
    {
     "data": {
      "text/plain": "5"
     },
     "execution_count": 20,
     "metadata": {},
     "output_type": "execute_result"
    }
   ],
   "source": [
    "len(list_3)"
   ]
  },
  {
   "cell_type": "code",
   "execution_count": 21,
   "metadata": {},
   "outputs": [
    {
     "data": {
      "text/plain": "['e', 'h', 'l', 'l', 'o']"
     },
     "execution_count": 21,
     "metadata": {},
     "output_type": "execute_result"
    }
   ],
   "source": [
    "list_3.sort()\n",
    "list_3"
   ]
  },
  {
   "cell_type": "code",
   "execution_count": 22,
   "metadata": {},
   "outputs": [
    {
     "data": {
      "text/plain": "['o', 'l', 'l', 'h', 'e']"
     },
     "execution_count": 22,
     "metadata": {},
     "output_type": "execute_result"
    }
   ],
   "source": [
    "list_3.reverse()\n",
    "list_3"
   ]
  },
  {
   "cell_type": "code",
   "execution_count": 47,
   "outputs": [],
   "source": [
    "list = [1,1,12,546,3,2,67,-2,-34]\n",
    "list.sort()\n",
    "list.sort(reverse=True)\n"
   ],
   "metadata": {
    "collapsed": false,
    "pycharm": {
     "name": "#%%\n"
    }
   }
  },
  {
   "cell_type": "markdown",
   "metadata": {},
   "source": [
    "### 列表生成器"
   ]
  },
  {
   "cell_type": "code",
   "execution_count": 23,
   "metadata": {},
   "outputs": [
    {
     "name": "stdout",
     "output_type": "stream",
     "text": [
      "[0, 5, 10, 15, 20, 25, 30, 35, 40, 45, 50, 55, 60, 65, 70, 75, 80, 85, 90, 95, 100]\n",
      "[0, 5, 10, 15, 20, 25, 30, 35, 40, 45, 50, 55, 60, 65, 70, 75, 80, 85, 90, 95, 100]\n"
     ]
    }
   ],
   "source": [
    "# 生成100以内5的倍数的数形成一个List\n",
    "\n",
    "# NP\n",
    "result = []\n",
    "for i in range(101):\n",
    "    if i % 5 == 0:\n",
    "        result.append(i)\n",
    "print(result)\n",
    "        \n",
    "# P\n",
    "result = [i for i in range(101) if i % 5 == 0]\n",
    "print(result)"
   ]
  },
  {
   "cell_type": "code",
   "execution_count": null,
   "outputs": [],
   "source": [
    "class ArrayListManager:\n",
    "    '''\n",
    "     * @param n: You should generate an array list of n elements.\n",
    "     * @return: The array list your just created.\n",
    "    '''\n",
    "    def create(self, n):\n",
    "        A = []\n",
    "        # Write your code here\n",
    "        for i in range(n):\n",
    "            A.append (i)\n",
    "        return A\n",
    "\n",
    "\n",
    "    '''\n",
    "     * @param list: The list you need to clone\n",
    "     * @return: A deep copyed array list from the given list\n",
    "    '''\n",
    "    def clone(self, list):\n",
    "        # Write your code here\n",
    "        cloned_list = []\n",
    "        for i in list:\n",
    "            cloned_list.append(i)\n",
    "        return cloned_list\n",
    "\n",
    "\n",
    "    '''\n",
    "     * @param list: The array list to find the kth element\n",
    "     * @param k: Find the kth element\n",
    "     * @return: The kth element\n",
    "    '''\n",
    "    def get(self, list, k):\n",
    "        # Write your code here\n",
    "        return list[k]\n",
    "\n",
    "\n",
    "    '''\n",
    "     * @param list: The array list\n",
    "     * @param k: Find the kth element, set it to val\n",
    "     * @param val: Find the kth element, set it to val\n",
    "    '''\n",
    "    def set(self, list, k, val):\n",
    "        # write your code here\n",
    "        list[k]=val\n",
    "        return list\n",
    "\n",
    "\n",
    "    '''\n",
    "     * @param list: The array list to remove the kth element\n",
    "     * @param k: Remove the kth element\n",
    "    '''\n",
    "    def remove(self, list, k):\n",
    "        # write tour code here\n",
    "     del list[k]\n",
    "     return list\n",
    "\n",
    "\n",
    "    '''\n",
    "     * @param list: The array list.\n",
    "     * @param val: Get the index of the first element that equals to val\n",
    "     * @return: Return the index of that element\n",
    "    '''\n",
    "    def indexOf(self, list, val):\n",
    "        # Write your code here\n",
    "        if val in list:\n",
    "            return list.index(val)\n",
    "        else:\n",
    "            return -1\n",
    "\n",
    "\n"
   ],
   "metadata": {
    "collapsed": false,
    "pycharm": {
     "name": "#%%\n"
    }
   }
  }
 ],
 "metadata": {
  "kernelspec": {
   "display_name": "Python 3",
   "language": "python",
   "name": "python3"
  },
  "language_info": {
   "codemirror_mode": {
    "name": "ipython",
    "version": 3
   },
   "file_extension": ".py",
   "mimetype": "text/x-python",
   "name": "python",
   "nbconvert_exporter": "python",
   "pygments_lexer": "ipython3",
   "version": "3.6.2"
  }
 },
 "nbformat": 4,
 "nbformat_minor": 1
}