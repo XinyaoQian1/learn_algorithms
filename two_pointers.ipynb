{
 "cells": [
  {
   "cell_type": "code",
   "execution_count": 1,
   "metadata": {
    "collapsed": true
   },
   "outputs": [
    {
     "name": "stdout",
     "output_type": "stream",
     "text": [
      "True\n"
     ]
    }
   ],
   "source": [
    "s = 'acbca'\n",
    "print(s.isalnum())"
   ]
  },
  {
   "cell_type": "code",
   "execution_count": 2,
   "metadata": {
    "pycharm": {
     "name": "#%%\n"
    }
   },
   "outputs": [],
   "source": [
    "\n",
    "\n",
    "class TwoSum:\n",
    "    \"\"\"\n",
    "    @param number: An integer\n",
    "    @return: nothing\n",
    "    \"\"\"\n",
    "    num_to_cnt_map = {} # hashmap\n",
    "    def add(self, number):\n",
    "        # 数字出现次数+1\n",
    "        self.num_to_cnt_map[number] = self.num_to_cnt_map.get(number , 0) + 1\n",
    "\n",
    "\n",
    "    \"\"\"\n",
    "    @param value: An integer\n",
    "    @return: Find if there exists any pair of numbers which sum is equal to the value.\n",
    "    \"\"\"\n",
    "    def find(self, value):\n",
    "        # write your code here\n",
    "        for num1 in self.num_to_cnt_map:\n",
    "            num2 = value - num1\n",
    "            #如果需要找相同的数（3+3=6）\n",
    "            num2_cnt = 2 if (num1 == num2) else 1\n",
    "            if self.num_to_cnt_map.get(num2,0) >= num2_cnt:\n",
    "                return True\n",
    "\n",
    "        return False\n"
   ]
  },
  {
   "cell_type": "code",
   "execution_count": 3,
   "metadata": {
    "pycharm": {
     "name": "#%%\n"
    }
   },
   "outputs": [
    {
     "ename": "TypeError",
     "evalue": "add() missing 1 required positional argument: 'number'",
     "output_type": "error",
     "traceback": [
      "\u001B[0;31m---------------------------------------------------------------------------\u001B[0m",
      "\u001B[0;31mTypeError\u001B[0m                                 Traceback (most recent call last)",
      "\u001B[0;32m/var/folders/d3/hrklkv3d5nl_8rzt8c3y28l00000gn/T/ipykernel_2333/897021179.py\u001B[0m in \u001B[0;36m<module>\u001B[0;34m\u001B[0m\n\u001B[0;32m----> 1\u001B[0;31m \u001B[0mTwoSum\u001B[0m\u001B[0;34m.\u001B[0m\u001B[0madd\u001B[0m\u001B[0;34m(\u001B[0m\u001B[0;36m11\u001B[0m\u001B[0;34m)\u001B[0m\u001B[0;34m\u001B[0m\u001B[0;34m\u001B[0m\u001B[0m\n\u001B[0m\u001B[1;32m      2\u001B[0m \u001B[0mTwoSum\u001B[0m\u001B[0;34m.\u001B[0m\u001B[0madd\u001B[0m\u001B[0;34m(\u001B[0m\u001B[0;36m3\u001B[0m\u001B[0;34m)\u001B[0m\u001B[0;34m\u001B[0m\u001B[0;34m\u001B[0m\u001B[0m\n\u001B[1;32m      3\u001B[0m \u001B[0mTwoSum\u001B[0m\u001B[0;34m.\u001B[0m\u001B[0madd\u001B[0m\u001B[0;34m(\u001B[0m\u001B[0;36m5\u001B[0m\u001B[0;34m)\u001B[0m\u001B[0;34m\u001B[0m\u001B[0;34m\u001B[0m\u001B[0m\n\u001B[1;32m      4\u001B[0m \u001B[0mTwoSum\u001B[0m\u001B[0;34m.\u001B[0m\u001B[0mfind\u001B[0m\u001B[0;34m(\u001B[0m\u001B[0;36m4\u001B[0m\u001B[0;34m)\u001B[0m\u001B[0;34m\u001B[0m\u001B[0;34m\u001B[0m\u001B[0m\n\u001B[1;32m      5\u001B[0m \u001B[0mTwoSum\u001B[0m\u001B[0;34m.\u001B[0m\u001B[0mfind\u001B[0m\u001B[0;34m(\u001B[0m\u001B[0;36m7\u001B[0m\u001B[0;34m)\u001B[0m\u001B[0;34m\u001B[0m\u001B[0;34m\u001B[0m\u001B[0m\n",
      "\u001B[0;31mTypeError\u001B[0m: add() missing 1 required positional argument: 'number'"
     ]
    }
   ],
   "source": [
    "TwoSum.add(11)\n",
    "TwoSum.add(3)\n",
    "TwoSum.add(5)\n",
    "TwoSum.find(4)\n",
    "TwoSum.find(7)"
   ]
  },
  {
   "cell_type": "code",
   "execution_count": null,
   "metadata": {
    "pycharm": {
     "name": "#%%\n"
    }
   },
   "outputs": [],
   "source": [
    "\n",
    "num_to_cnt_map={}\n",
    "\n",
    "num_to_cnt_map.get(2 , 0)"
   ]
  },
  {
   "cell_type": "code",
   "execution_count": null,
   "metadata": {
    "pycharm": {
     "name": "#%%\n"
    }
   },
   "outputs": [],
   "source": [
    "a_string= 'akOcVhfEQHWorWCsuGfKIWKHCqntpnlYBNWcrbRGzGJdACOAdLUoEDvrmiuJQYsTuigvjvsTjyRtYjqeiScfBJBQZC'\n",
    "sorted(a_string)"
   ]
  },
  {
   "cell_type": "code",
   "execution_count": null,
   "metadata": {
    "pycharm": {
     "name": "#%%\n"
    }
   },
   "outputs": [],
   "source": [
    "n = 3\n",
    "# 2^3 = 8, 2^4 = 16\n",
    "for i in range(2**n, 2**(n + 1)):\n",
    "    # generate bitmask, from 0..00 to 1..11\n",
    "    bitmask = bin(i)[3:]\n",
    "    print(bitmask)\n"
   ]
  },
  {
   "cell_type": "code",
   "execution_count": null,
   "metadata": {
    "pycharm": {
     "name": "#%%\n"
    }
   },
   "outputs": [],
   "source": [
    "bin(15)"
   ]
  },
  {
   "cell_type": "code",
   "execution_count": null,
   "metadata": {
    "pycharm": {
     "name": "#%%\n"
    }
   },
   "outputs": [],
   "source": [
    "2**n"
   ]
  },
  {
   "cell_type": "code",
   "execution_count": null,
   "metadata": {
    "pycharm": {
     "name": "#%%\n"
    }
   },
   "outputs": [],
   "source": [
    "1<<n"
   ]
  },
  {
   "cell_type": "code",
   "execution_count": null,
   "metadata": {
    "pycharm": {
     "name": "#%%\n"
    }
   },
   "outputs": [],
   "source": [
    "1<<1"
   ]
  },
  {
   "cell_type": "code",
   "execution_count": null,
   "metadata": {
    "pycharm": {
     "name": "#%%\n"
    }
   },
   "outputs": [],
   "source": [
    "1<<2"
   ]
  },
  {
   "cell_type": "code",
   "execution_count": null,
   "metadata": {
    "pycharm": {
     "name": "#%%\n"
    }
   },
   "outputs": [],
   "source": [
    "1<<3"
   ]
  },
  {
   "cell_type": "code",
   "execution_count": null,
   "metadata": {
    "pycharm": {
     "name": "#%%\n"
    }
   },
   "outputs": [],
   "source": [
    "33<<1"
   ]
  },
  {
   "cell_type": "code",
   "execution_count": null,
   "metadata": {
    "pycharm": {
     "name": "#%%\n"
    }
   },
   "outputs": [],
   "source": [
    "33<<2"
   ]
  },
  {
   "cell_type": "code",
   "execution_count": null,
   "metadata": {
    "pycharm": {
     "name": "#%%\n"
    }
   },
   "outputs": [],
   "source": [
    "from typing import (\n",
    "    List,\n",
    ")\n",
    "\n",
    "class Solution:\n",
    "    \"\"\"\n",
    "    @param candidates: A list of integers\n",
    "    @param target: An integer\n",
    "    @return: A list of lists of integers\n",
    "             we will sort your return value in output\n",
    "    \"\"\"\n",
    "\n",
    "    def combination_sum(self,candidates, target):\n",
    "        # write your code here\n",
    "        results = []\n",
    "        if not candidates:\n",
    "            return results\n",
    "        # 排序\n",
    "        sorted_candidates = sorted(list(set(candidates)))\n",
    "        max = candidates[-1]+candidates[-2]\n",
    "        print(max)\n",
    "\n",
    "        self.dfs(sorted_candidates,0, [], target, results)\n",
    "        return results\n",
    "\n",
    "    def dfs(self,sorted_candidates, index, current_result, curretn_target, results):\n",
    "            #归递的出口\n",
    "        if curretn_target == 0:\n",
    "            return results.append(list(current_result))\n",
    "        #拆解\n",
    "        for i in range(index,len(sorted_candidates)):\n",
    "            if curretn_target < sorted_candidates[i]:\n",
    "                return\n",
    "            current_result.append(sorted_candidates[i])\n",
    "            self.dfs(sorted_candidates, i, current_result, curretn_target-sorted_candidates[i],results)\n",
    "            current_result.pop()\n"
   ]
  },
  {
   "cell_type": "code",
   "execution_count": null,
   "metadata": {
    "pycharm": {
     "name": "#%%\n"
    }
   },
   "outputs": [],
   "source": [
    "p=Solution()\n",
    "p.combination_sum([10,50,90,20],60)"
   ]
  },
  {
   "cell_type": "code",
   "execution_count": null,
   "metadata": {
    "pycharm": {
     "name": "#%%\n"
    }
   },
   "outputs": [],
   "source": [
    "100%60"
   ]
  },
  {
   "cell_type": "code",
   "execution_count": null,
   "metadata": {
    "pycharm": {
     "name": "#%%\n"
    }
   },
   "outputs": [],
   "source": []
  },
  {
   "cell_type": "code",
   "execution_count": null,
   "metadata": {
    "pycharm": {
     "name": "#%%\n"
    }
   },
   "outputs": [],
   "source": [
    "5 >> 1"
   ]
  },
  {
   "cell_type": "code",
   "execution_count": null,
   "metadata": {
    "pycharm": {
     "name": "#%%\n"
    }
   },
   "outputs": [],
   "source": [
    "factors = []\n",
    "p = 2\n",
    "n = 17\n",
    "i = 0\n",
    "m =0\n",
    "while n>1:\n",
    "    i+=1\n",
    "\n",
    "    if n%p ==0:\n",
    "        factors.append(p)\n",
    "        m +=1\n",
    "        n = n/p\n",
    "    else:\n",
    "        p = p+1\n",
    "print (i)"
   ]
  },
  {
   "cell_type": "code",
   "execution_count": null,
   "metadata": {
    "pycharm": {
     "name": "#%%\n"
    }
   },
   "outputs": [],
   "source": [
    "output = []\n",
    "curr = []\n",
    "output.append(curr[:])\n",
    "print(output)\n",
    "\n",
    "len(curr)\n",
    "curr.append(1)\n",
    "print(curr)\n",
    "len(curr)"
   ]
  },
  {
   "cell_type": "code",
   "execution_count": 4,
   "metadata": {
    "pycharm": {
     "name": "#%%\n"
    }
   },
   "outputs": [
    {
     "ename": "SyntaxError",
     "evalue": "invalid syntax (3333272279.py, line 6)",
     "output_type": "error",
     "traceback": [
      "\u001B[0;36m  File \u001B[0;32m\"/var/folders/d3/hrklkv3d5nl_8rzt8c3y28l00000gn/T/ipykernel_2333/3333272279.py\"\u001B[0;36m, line \u001B[0;32m6\u001B[0m\n\u001B[0;31m    backtrack(left_remain, right_remain, track):\u001B[0m\n\u001B[0m                                                ^\u001B[0m\n\u001B[0;31mSyntaxError\u001B[0m\u001B[0;31m:\u001B[0m invalid syntax\n"
     ]
    }
   ],
   "source": [
    "class Solution:\n",
    "    def generateParenthesis(self, n: int) -> List[str]:\n",
    "\n",
    "\n",
    "        #可用的左括号数量为 left 个，可用的右括号数量为 rgiht 个\n",
    "        backtrack(left_remain, right_remain, track):\n",
    "            # 若左括号剩下的多，说明不合法\n",
    "            if left_remain > right_remain:\n",
    "                return\n",
    "            #// 数量小于 0 肯定是不合法的\n",
    "            if right_remain < 0 or left_remain < 0:\n",
    "                return\n",
    "            #// 当所有括号都恰好用完时，得到一个合法的括号组合\n",
    "            if left_remain == o and right_remain == 0:\n",
    "                res.append(track)\n",
    "                return\n",
    "\n",
    "            #// 尝试放一个左括号\n",
    "            track.push('(')\n",
    "            backtrack(left_remain-1, right_remaian, track)\n",
    "            track.pop()\n",
    "            #// 尝试放一个右括号\n",
    "            track.push(')')\n",
    "            backtrack(left_remain, right_remaian-1, track)\n",
    "            track.pop()\n",
    "        if n == 0 :\n",
    "            return []#异常检测\n",
    "        res = []\n",
    "        backtrack(n,n,[])\n",
    "        return res"
   ]
  },
  {
   "cell_type": "code",
   "execution_count": null,
   "metadata": {
    "pycharm": {
     "name": "#%%\n"
    }
   },
   "outputs": [],
   "source": [
    "from collections import deque\n",
    "def bfs(node, start, target):\n",
    "    #创建核心数据结构\n",
    "    queue = deque()\n",
    "    #记录，避免走回头路\n",
    "    visited = set()\n",
    "    #记录执行次数\n",
    "    step = 0\n",
    "\n",
    "    queue.append(start)\n",
    "    visited.add(start)\n",
    "\n",
    "    while queue:\n",
    "        size = len(queue)\n",
    "        #向四周扩散\n",
    "        for i in range(size):\n",
    "            #取出头前\n",
    "            curr = queue.popleft()\n",
    "            #判断是否到达\n",
    "            if curr == target:\n",
    "                return step\n",
    "            for node in curr.adj():\n",
    "                if node not in visited:\n",
    "                    queue.append(node)\n",
    "                    visited.add(node)\n",
    "\n",
    "        step+=1\n",
    "\n"
   ]
  },
  {
   "cell_type": "code",
   "execution_count": null,
   "metadata": {
    "pycharm": {
     "name": "#%%\n"
    }
   },
   "outputs": [],
   "source": [
    "\n",
    "class NumMatrix:\n",
    "\n",
    "\n",
    "    def __init__(self, matrix: List[List[int]]):\n",
    "        r = len(matrix) #row\n",
    "        c = len(matrix[0])#column\n",
    "        preSum = [[0]* (r+1) for _ in range(c+1)]\n",
    "        for i in range(1, r):\n",
    "            for j in range(1,c):\n",
    "                preSum[i][j] = preSum[i-1][j]+preSum[i][j-1]+matrix[i-1][j-1]-preSum[i-1][j-1]\n",
    "\n",
    "\n",
    "    def sumRegion(self, x1: int, y1: int, x2: int, y2: int) -> int:\n",
    "        print(preSum)\n",
    "        print(preSum[x2+1][y2+1])\n",
    "        preSum[x2+1][y2+1] - preSum[x1][y2+1] - preSum[x2+1][y1] + preSum[x1][y1]\n",
    "        return\n",
    "\n",
    "\n",
    "# Your NumMatrix object will be instantiated and called as such:\n",
    "# obj = NumMatrix(matrix)\n",
    "# param_1 = obj.sumRegion(row1,col1,row2,col2)"
   ]
  },
  {
   "cell_type": "code",
   "execution_count": 1,
   "metadata": {
    "pycharm": {
     "name": "#%%\n"
    }
   },
   "outputs": [
    {
     "name": "stdout",
     "output_type": "stream",
     "text": [
      "[[0, 0, 0, 0, 0], [0, 0, 0, 0, 0]]\n"
     ]
    }
   ],
   "source": [
    "t = [ [0]*5 for i in range(2)]\n",
    "print(t)"
   ]
  },
  {
   "cell_type": "code",
   "execution_count": 2,
   "metadata": {
    "pycharm": {
     "name": "#%%\n"
    }
   },
   "outputs": [
    {
     "ename": "TabError",
     "evalue": "inconsistent use of tabs and spaces in indentation (270112047.py, line 14)",
     "output_type": "error",
     "traceback": [
      "\u001B[0;36m  File \u001B[0;32m\"/var/folders/d3/hrklkv3d5nl_8rzt8c3y28l00000gn/T/ipykernel_46027/270112047.py\"\u001B[0;36m, line \u001B[0;32m14\u001B[0m\n\u001B[0;31m    path = [root.val]\u001B[0m\n\u001B[0m                     ^\u001B[0m\n\u001B[0;31mTabError\u001B[0m\u001B[0;31m:\u001B[0m inconsistent use of tabs and spaces in indentation\n"
     ]
    }
   ],
   "source": [
    "class Solution:\n",
    "\tdef preorderTraversal(self, root: TreeNode) -> List[int]:\n",
    "\t\tpath = []\n",
    "\n",
    "\t\t# Boundary\n",
    "\t\tif not root:\n",
    "\t\t\treturn path\n",
    "\n",
    "\t\t# Divide\n",
    "\t\tleft = self.preorderTraversal(root.left)\n",
    "\t\tright = self.preorderTraversal(root.right)\n",
    "\n",
    "\t\t# Conquer\n",
    "        path = [root.val]\n",
    "\n",
    "\t\treturn path"
   ]
  }
 ],
 "metadata": {
  "kernelspec": {
   "display_name": "Python 3 (ipykernel)",
   "language": "python",
   "name": "python3"
  },
  "language_info": {
   "codemirror_mode": {
    "name": "ipython",
    "version": 3
   },
   "file_extension": ".py",
   "mimetype": "text/x-python",
   "name": "python",
   "nbconvert_exporter": "python",
   "pygments_lexer": "ipython3",
   "version": "3.9.1"
  }
 },
 "nbformat": 4,
 "nbformat_minor": 1
}