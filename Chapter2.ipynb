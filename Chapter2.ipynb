{
 "cells": [
  {
   "cell_type": "code",
   "execution_count": 13,
   "metadata": {
    "collapsed": true
   },
   "outputs": [
    {
     "name": "stdout",
     "output_type": "stream",
     "text": [
      "32\n",
      "20 10\n"
     ]
    }
   ],
   "source": [
    "# coding=utf-8\n",
    "\n",
    "\n",
    "def find_number(nums, target):\n",
    "    for num in nums:\n",
    "        if num == target:\n",
    "            return True\n",
    "\n",
    "    return False\n",
    "\n",
    "\n",
    "def get_grade(score):\n",
    "    if score >= 85:\n",
    "        return 'A'\n",
    "    elif score >= 75:\n",
    "        return 'B'\n",
    "    elif score >= 60:\n",
    "        return 'C'\n",
    "    else:\n",
    "        return 'D'\n",
    "\n",
    "\n",
    "def simple_print():\n",
    "    print('I am a function')\n",
    "\n",
    "\n",
    "def sum(a, b):\n",
    "    return a + b\n",
    "\n",
    "\n",
    "def swap(num1, num2):\n",
    "    num1, num2 = num2, num1\n",
    "    return num1, num2\n",
    "\n",
    "\n",
    "if __name__ == '__main__':\n",
    "\n",
    "    score = 78\n",
    "    grade = get_grade(score)\n",
    "\n",
    "    print(sum(10, 22))\n",
    "\n",
    "    num1 = 10\n",
    "    num2 = 20\n",
    "    num1, num2 = swap(num1, num2)\n",
    "\n",
    "    print(num1, num2)\n",
    "\n",
    "\n",
    "    num_of_days = 7\n",
    "\n",
    "    # 10, 20\n",
    "    # 20, 10\n",
    "    # num1 = ...\n",
    "    # num2 = ..."
   ]
  },
  {
   "cell_type": "code",
   "execution_count": 14,
   "outputs": [
    {
     "name": "stdout",
     "output_type": "stream",
     "text": [
      "1 123 4 213 54 12 122 1 123 4 213 54 12 122 0 1 1 123 2 4 3 213 4 54 5 12 6 122 "
     ]
    }
   ],
   "source": [
    "\n",
    "\n",
    "scores = [1,123,4,213,54,12,122]\n",
    "\n",
    "for score in scores:\n",
    "    print(score,end=' ')\n",
    "\n",
    "for i in range(len(scores)):\n",
    "    print(scores[i],end=' ')\n",
    "\n",
    "for (i,score) in enumerate(scores):\n",
    "    print(i,score,end=' ')"
   ],
   "metadata": {
    "collapsed": false,
    "pycharm": {
     "name": "#%%\n"
    }
   }
  },
  {
   "cell_type": "code",
   "execution_count": 16,
   "outputs": [
    {
     "name": "stdout",
     "output_type": "stream",
     "text": [
      "I am a function\n",
      "32\n",
      "20 10\n"
     ]
    }
   ],
   "source": [
    "# coding=utf-8\n",
    "\n",
    "\n",
    "def find_number(nums, target):\n",
    "    for num in nums:\n",
    "        if num == target:\n",
    "            return True\n",
    "\n",
    "    return False\n",
    "\n",
    "\n",
    "def get_grade(score):\n",
    "    if score >= 85:\n",
    "        return 'A'\n",
    "    elif score >= 75:\n",
    "        return 'B'\n",
    "    elif score >= 60:\n",
    "        return 'C'\n",
    "    else:\n",
    "        return 'D'\n",
    "\n",
    "\n",
    "def simple_print():\n",
    "    print('I am a function')\n",
    "\n",
    "\n",
    "def sum(a, b):\n",
    "    return a + b\n",
    "\n",
    "\n",
    "def swap(num1, num2):\n",
    "    num1, num2 = num2, num1\n",
    "    return num1, num2\n",
    "\n",
    "\n",
    "if __name__ == '__main__':\n",
    "\n",
    "    score = 78\n",
    "    grade = get_grade(score)\n",
    "    simple_print()\n",
    "\n",
    "    print(sum(10, 22))\n",
    "\n",
    "    num1 = 10\n",
    "    num2 = 20\n",
    "    num1, num2 = swap(num1, num2)\n",
    "\n",
    "    print(num1, num2)\n",
    "\n",
    "\n",
    "    num_of_days = 7\n",
    "\n",
    "    # 10, 20\n",
    "    # 20, 10\n",
    "    # num1 = ...\n",
    "    # num2 = ..."
   ],
   "metadata": {
    "collapsed": false,
    "pycharm": {
     "name": "#%%\n"
    }
   }
  },
  {
   "cell_type": "markdown",
   "source": [
    "输入:  [1, 2, 3, 4], index1 = 2, index2 = 3\n",
    "输出:  交换后你的数组应该是[1, 2, 4, 3]， 不需要返回任何值，只要就地对数组进行交换即可。\n",
    "样例解释: 就地交换，不需要返回值。"
   ],
   "metadata": {
    "collapsed": false
   }
  },
  {
   "cell_type": "code",
   "execution_count": 17,
   "outputs": [],
   "source": [
    "from typing import (\n",
    "    List,\n",
    ")\n",
    "\n",
    "class Solution:\n",
    "    \"\"\"\n",
    "    @param a: An integer array\n",
    "    @param index1: the first index\n",
    "    @param index2: the second index\n",
    "    @return: nothing\n",
    "    \"\"\"\n",
    "    def swap_integers(self, a: List[int], index1: int, index2: int):\n",
    "        # write your code here\n",
    "        a[index1], a[index2] = a[index2], a[index1]\n",
    "\n",
    "        return a"
   ],
   "metadata": {
    "collapsed": false,
    "pycharm": {
     "name": "#%%\n"
    }
   }
  },
  {
   "cell_type": "code",
   "execution_count": null,
   "outputs": [],
   "source": [
    "class Student:\n",
    "    def __init__(self,id):\n",
    "        self.id = id\n",
    "        \n",
    "class Class:\n",
    "    def __init__(self,n):\n",
    "        self.students = []\n",
    "\n",
    "        for i in range (n):\n",
    "            self.students.append(Student(i))"
   ],
   "metadata": {
    "collapsed": false,
    "pycharm": {
     "name": "#%%\n"
    }
   }
  }
 ],
 "metadata": {
  "kernelspec": {
   "display_name": "Python 3",
   "language": "python",
   "name": "python3"
  },
  "language_info": {
   "codemirror_mode": {
    "name": "ipython",
    "version": 2
   },
   "file_extension": ".py",
   "mimetype": "text/x-python",
   "name": "python",
   "nbconvert_exporter": "python",
   "pygments_lexer": "ipython2",
   "version": "2.7.6"
  }
 },
 "nbformat": 4,
 "nbformat_minor": 0
}