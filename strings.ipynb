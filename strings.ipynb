{
 "cells": [
  {
   "cell_type": "code",
   "execution_count": 4,
   "metadata": {
    "collapsed": true
   },
   "outputs": [],
   "source": [
    "def reverseAsciiEncodedString(eString):\n",
    "    ans=''# stirng\n",
    "    #range (start, stop[, step])\n",
    "    #example 7 9 7 6\n",
    "    for i in range(len(eString)-1,0,-2): # 倒着遍历, step = 2\n",
    "        #index 3 1 ...\n",
    "        # first get 76 (index 2,3), i = 3\n",
    "        num = int(eString[(i-1):(i+1)])#from 2 to 3 (2,4]\n",
    "        ans+=chr(num)# convert\n",
    "\n",
    "    return ans\n",
    "\n"
   ]
  },
  {
   "cell_type": "code",
   "execution_count": null,
   "outputs": [],
   "source": [],
   "metadata": {
    "collapsed": false,
    "pycharm": {
     "name": "#%%\n"
    }
   }
  },
  {
   "cell_type": "code",
   "execution_count": 64,
   "outputs": [
    {
     "name": "stdout",
     "output_type": "stream",
     "text": [
      "86 0\n",
      "86 1\n",
      "86 2\n",
      "86 3\n",
      "86 4\n",
      "139\n",
      "85 5\n",
      "85 6\n",
      "139\n",
      "84 7\n",
      "84 8\n",
      "140\n",
      "83 9\n",
      "83 10\n",
      "141\n",
      "82 11\n",
      "82 12\n",
      "146\n",
      "81 13\n",
      "81 14\n",
      "149\n",
      "80 15\n",
      "80 16\n",
      "149\n",
      "79 17\n",
      "79 18\n",
      "153\n",
      "78 19\n",
      "78 20\n",
      "154\n",
      "77 21\n",
      "77 22\n",
      "155\n",
      "76 23\n",
      "76 24\n",
      "156\n",
      "75 25\n",
      "75 26\n",
      "159\n",
      "74 27\n",
      "74 28\n",
      "159\n",
      "73 29\n",
      "73 30\n",
      "159\n",
      "72 31\n",
      "72 32\n",
      "162\n",
      "71 33\n",
      "71 34\n",
      "166\n",
      "70 35\n",
      "70 36\n",
      "166\n",
      "69 37\n",
      "69 38\n",
      "168\n",
      "68 39\n",
      "68 40\n",
      "169\n",
      "67 41\n",
      "67 42\n",
      "170\n",
      "66 43\n",
      "66 44\n",
      "172\n",
      "65 45\n",
      "65 46\n",
      "173\n",
      "64 47\n",
      "64 48\n",
      "176\n",
      "63 49\n",
      "63 50\n",
      "176\n",
      "62 51\n",
      "62 52\n",
      "178\n",
      "61 53\n",
      "61 54\n",
      "180\n",
      "60 55\n",
      "60 56\n",
      "181\n",
      "59 57\n",
      "59 58\n",
      "192\n",
      "['3.0 探索集线器、交换机和路由器', '3.1 信号在网线和集线器中传输', '3.1.1 每个包都是独立传输的', '3.1.2 防止网线中的信号衰减很重要', '3.1.3 “双绞”是为了抑制噪声', '3.1.4 集线器将信号发往所有线路', '3.2 交换机的包转发操作', '3.2.1 交换机根据地址表进行转发', '3.2.2 MAC地址表的维护', '3.2.3 特殊操作', '3.2.4 全双工模式可以同时进行发送和接收', '3.2.5 自动协商确定最优的传输速率', '3.2.6 交换机可同时执行多个转发操作', '3.3 路由器的包转发操作', '3.3.1 路由器的基本知识', '3.3.2 路由表中的信息', '3.3.3 路由器的包接收操作', '3.3.4 查询路由表确定输出端口', '3.3.5 找不到匹配路由时选择默认路由', '3.3.6 包的有效期', '3.3.7 通过分片功能拆分大网络包', '3.3.8 路由器的发送操作和计算机相同', '3.3.9 路由器与交换机的关系', '3.4 路由器的附加功能', '3.4.1 通过地址转换有效利用IP地址', '3.4.2 地址转换的基本原理', '3.4.3 改写端口号的原因', '3.4.4 从互联网访问公司内网', '3.4.5 路由器的包过滤功能']\n"
     ]
    }
   ],
   "source": [
    "text = '3.0 探索集线器、交换机和路由器 3.1 信号在网线和集线器中传输 139 3.1.1 每个包都是独立传输的 139 3.1.2 防止网线中的信号衰减很重要 140 3.1.3 “双绞”是为了抑制噪声 141 3.1.4 集线器将信号发往所有线路 146 3.2 交换机的包转发操作 149 3.2.1 交换机根据地址表进行转发 149 3.2.2 MAC地址表的维护 153 3.2.3 特殊操作 154 3.2.4 全双工模式可以同时进行发送和接收 155 3.2.5 自动协商确定最优的传输速率 156 3.2.6 交换机可同时执行多个转发操作 159 3.3 路由器的包转发操作 159 3.3.1 路由器的基本知识 159 3.3.2 路由表中的信息 162 3.3.3 路由器的包接收操作 166 3.3.4 查询路由表确定输出端口 166 3.3.5 找不到匹配路由时选择默认路由 168 3.3.6 包的有效期 169 3.3.7 通过分片功能拆分大网络包 170 3.3.8 路由器的发送操作和计算机相同 172 3.3.9 路由器与交换机的关系 173 3.4 路由器的附加功能 176 3.4.1 通过地址转换有效利用IP地址 176 3.4.2 地址转换的基本原理 178 3.4.3 改写端口号的原因 180 3.4.4 从互联网访问公司内网 181 3.4.5 路由器的包过滤功能 192  '\n",
    "x = text.split()\n",
    "for i in range(len(x)-1):\n",
    "    if i > len(x)-1:\n",
    "        break\n",
    "    print(len(x),i)\n",
    "    if x[i].isdigit():\n",
    "        print(x[i])\n",
    "        x.remove(x[i])\n",
    "\n",
    "\n",
    "# print(x)\n",
    "lst2 = []\n",
    "for i in range(0, len(x), 2):\n",
    "    lst2.append(x[i] +' '+ x[i+1])\n",
    "print(lst2)"
   ],
   "metadata": {
    "collapsed": false,
    "pycharm": {
     "name": "#%%\n"
    }
   }
  },
  {
   "cell_type": "code",
   "execution_count": 67,
   "outputs": [
    {
     "name": "stdout",
     "output_type": "stream",
     "text": [
      "## 3.0 探索集线器、交换机和路由器\n",
      "## 3.1 信号在网线和集线器中传输\n",
      "### 3.1.1 每个包都是独立传输的\n",
      "### 3.1.2 防止网线中的信号衰减很重要\n",
      "### 3.1.3 “双绞”是为了抑制噪声\n",
      "### 3.1.4 集线器将信号发往所有线路\n",
      "## 3.2 交换机的包转发操作\n",
      "### 3.2.1 交换机根据地址表进行转发\n",
      "### 3.2.2 MAC地址表的维护\n",
      "### 3.2.3 特殊操作\n",
      "### 3.2.4 全双工模式可以同时进行发送和接收\n",
      "### 3.2.5 自动协商确定最优的传输速率\n",
      "### 3.2.6 交换机可同时执行多个转发操作\n",
      "## 3.3 路由器的包转发操作\n",
      "### 3.3.1 路由器的基本知识\n",
      "### 3.3.2 路由表中的信息\n",
      "### 3.3.3 路由器的包接收操作\n",
      "### 3.3.4 查询路由表确定输出端口\n",
      "### 3.3.5 找不到匹配路由时选择默认路由\n",
      "### 3.3.6 包的有效期\n",
      "### 3.3.7 通过分片功能拆分大网络包\n",
      "### 3.3.8 路由器的发送操作和计算机相同\n",
      "### 3.3.9 路由器与交换机的关系\n",
      "## 3.4 路由器的附加功能\n",
      "### 3.4.1 通过地址转换有效利用IP地址\n",
      "### 3.4.2 地址转换的基本原理\n",
      "### 3.4.3 改写端口号的原因\n",
      "### 3.4.4 从互联网访问公司内网\n",
      "### 3.4.5 路由器的包过滤功能\n"
     ]
    }
   ],
   "source": [
    "for l in lst2:\n",
    "    numbers = sum(c.isdigit() for c in l)\n",
    "    if numbers ==2:\n",
    "        l = '## ' +l\n",
    "    else:\n",
    "        l = '### '+l\n",
    "    print(l)\n",
    "# print(lst2)\n"
   ],
   "metadata": {
    "collapsed": false,
    "pycharm": {
     "name": "#%%\n"
    }
   }
  },
  {
   "cell_type": "code",
   "execution_count": 57,
   "outputs": [],
   "source": [
    "\n",
    "with open('my.txt', 'w') as fp:\n",
    "    for row in lst2:\n",
    "        fp.write(f\"{row}\\n\")\n",
    "\n"
   ],
   "metadata": {
    "collapsed": false,
    "pycharm": {
     "name": "#%%\n"
    }
   }
  },
  {
   "cell_type": "code",
   "execution_count": 23,
   "outputs": [
    {
     "name": "stdout",
     "output_type": "stream",
     "text": [
      "Name of the file:  abc.txt\n",
      "Line No 0 - This is 6th line\n",
      "\n",
      "Line No 1 - This is 7th line\n"
     ]
    },
    {
     "ename": "StopIteration",
     "evalue": "",
     "output_type": "error",
     "traceback": [
      "\u001B[0;31m---------------------------------------------------------------------------\u001B[0m",
      "\u001B[0;31mStopIteration\u001B[0m                             Traceback (most recent call last)",
      "\u001B[0;32m/var/folders/d3/hrklkv3d5nl_8rzt8c3y28l00000gn/T/ipykernel_32584/1517630896.py\u001B[0m in \u001B[0;36m<module>\u001B[0;34m\u001B[0m\n\u001B[1;32m     11\u001B[0m \u001B[0mfo\u001B[0m\u001B[0;34m.\u001B[0m\u001B[0mseek\u001B[0m\u001B[0;34m(\u001B[0m\u001B[0;36m0\u001B[0m\u001B[0;34m,\u001B[0m\u001B[0;36m0\u001B[0m\u001B[0;34m)\u001B[0m\u001B[0;34m\u001B[0m\u001B[0;34m\u001B[0m\u001B[0m\n\u001B[1;32m     12\u001B[0m \u001B[0;32mfor\u001B[0m \u001B[0mindex\u001B[0m \u001B[0;32min\u001B[0m \u001B[0mrange\u001B[0m\u001B[0;34m(\u001B[0m\u001B[0;36m7\u001B[0m\u001B[0;34m)\u001B[0m\u001B[0;34m:\u001B[0m\u001B[0;34m\u001B[0m\u001B[0;34m\u001B[0m\u001B[0m\n\u001B[0;32m---> 13\u001B[0;31m   \u001B[0mline\u001B[0m \u001B[0;34m=\u001B[0m \u001B[0mnext\u001B[0m\u001B[0;34m(\u001B[0m\u001B[0mfo\u001B[0m\u001B[0;34m)\u001B[0m\u001B[0;34m\u001B[0m\u001B[0;34m\u001B[0m\u001B[0m\n\u001B[0m\u001B[1;32m     14\u001B[0m   \u001B[0mprint\u001B[0m \u001B[0;34m(\u001B[0m\u001B[0;34m\"Line No %d - %s\"\u001B[0m \u001B[0;34m%\u001B[0m \u001B[0;34m(\u001B[0m\u001B[0mindex\u001B[0m\u001B[0;34m,\u001B[0m \u001B[0mline\u001B[0m\u001B[0;34m)\u001B[0m\u001B[0;34m)\u001B[0m\u001B[0;34m\u001B[0m\u001B[0;34m\u001B[0m\u001B[0m\n\u001B[1;32m     15\u001B[0m \u001B[0;34m\u001B[0m\u001B[0m\n",
      "\u001B[0;31mStopIteration\u001B[0m: "
     ]
    }
   ],
   "source": [
    "# Open a file in read/write mode\n",
    "fo = open(\"abc.txt\", \"r+\")\n",
    "print (\"Name of the file: \", fo.name)\n",
    "\n",
    "seq = [\"This is 6th line\\n\", \"This is 7th line\"]\n",
    "# Write sequence of lines at the end of the file.\n",
    "fo.seek(0, 2)\n",
    "line = fo.writelines( seq )\n",
    "\n",
    "# Now read complete file from beginning.\n",
    "fo.seek(0,0)\n",
    "for index in range(7):\n",
    "  line = next(fo)\n",
    "  print (\"Line No %d - %s\" % (index, line))\n",
    "\n",
    "# Close opened file\n",
    "fo.close()"
   ],
   "metadata": {
    "collapsed": false,
    "pycharm": {
     "name": "#%%\n"
    }
   }
  },
  {
   "cell_type": "code",
   "execution_count": 7,
   "outputs": [
    {
     "data": {
      "text/plain": "2"
     },
     "execution_count": 7,
     "metadata": {},
     "output_type": "execute_result"
    }
   ],
   "source": [
    "5//2"
   ],
   "metadata": {
    "collapsed": false,
    "pycharm": {
     "name": "#%%\n"
    }
   }
  },
  {
   "cell_type": "code",
   "execution_count": 22,
   "outputs": [
    {
     "name": "stdout",
     "output_type": "stream",
     "text": [
      "s a\n",
      "a s\n",
      "s s\n",
      "s d\n",
      "d d\n"
     ]
    },
    {
     "data": {
      "text/plain": "6"
     },
     "execution_count": 22,
     "metadata": {},
     "output_type": "execute_result"
    }
   ],
   "source": [
    "# two pointers\n",
    "def stringPointer(s):\n",
    "    if s is None or len(s) ==0:\n",
    "        return 0\n",
    "\n",
    "    #长度小于3\n",
    "    if len(s) < 3:\n",
    "        return len(s)\n",
    "    max_length =0 #历史最大长度\n",
    "    letter_repeat_time =1\n",
    "    start_pointer = 0\n",
    "    # end pointer 每次前进1\n",
    "    for end_pointer in range(1,len(s)):\n",
    "        previous_letter = s[end_pointer-1]\n",
    "        current_letter = s[end_pointer]\n",
    "        print(previous_letter,current_letter)\n",
    "\n",
    "        # 判断重复字母\n",
    "        if current_letter == previous_letter:\n",
    "            letter_repeat_time+=1\n",
    "            if letter_repeat_time ==3:\n",
    "                start_pointer = end_pointer-1\n",
    "                letter_repeat_time =2\n",
    "\n",
    "        else:\n",
    "            letter_repeat_time=1\n",
    "\n",
    "        max_length =max(max_length, end_pointer-start_pointer+1)\n",
    "\n",
    "    return max_length\n",
    "\n",
    "stringPointer('sassdd')\n"
   ],
   "metadata": {
    "collapsed": false,
    "pycharm": {
     "name": "#%%\n"
    }
   }
  },
  {
   "cell_type": "markdown",
   "source": [],
   "metadata": {
    "collapsed": false
   }
  },
  {
   "cell_type": "code",
   "execution_count": 14,
   "outputs": [
    {
     "name": "stdout",
     "output_type": "stream",
     "text": [
      "1\n"
     ]
    },
    {
     "data": {
      "text/plain": "2"
     },
     "execution_count": 14,
     "metadata": {},
     "output_type": "execute_result"
    }
   ],
   "source": [
    "class Solution:\n",
    "\n",
    "    \"\"\"\n",
    "\n",
    "    @param s: the string\n",
    "\n",
    "    @return: length of longest semi alternating substring\n",
    "\n",
    "    \"\"\"\n",
    "\n",
    "    def longestSemiAlternatingSubstring(self, s):\n",
    "\n",
    "        n = len(s)\n",
    "\n",
    "        if n < 3:\n",
    "\n",
    "            return n\n",
    "\n",
    "        res, cnt = 0, 1\n",
    "\n",
    "        left = 0\n",
    "\n",
    "        for right in range(n):\n",
    "\n",
    "            if right > 0 and s[right] == s[right - 1]:\n",
    "\n",
    "                cnt += 1\n",
    "\n",
    "            else:\n",
    "\n",
    "                cnt = 1\n",
    "\n",
    "            if cnt == 3:\n",
    "\n",
    "                left = right - 1\n",
    "\n",
    "                cnt = 2\n",
    "\n",
    "            res = max(res, right - left + 1)\n",
    "\n",
    "\n",
    "        return res"
   ],
   "metadata": {
    "collapsed": false,
    "pycharm": {
     "name": "#%%\n"
    }
   }
  },
  {
   "cell_type": "code",
   "execution_count": 9,
   "outputs": [],
   "source": [
    "class Solution:\n",
    "    def findPeakElement(self, nums: List[int]) -> int:\n",
    "        start, end = 0, len(nums)-1\n",
    "\n",
    "        while start + 1 < end:\n",
    "            mid = (start + end) // 2\n",
    "            if nums[mid] < nums[mid - 1]:\n",
    "                end = mid\n",
    "            elif nums[mid] < nums[mid + 1]:\n",
    "                start = mid\n",
    "            else:\n",
    "                return mid\n",
    "\n",
    "        return end if nums[start]< nums[end] else start"
   ],
   "metadata": {
    "collapsed": false,
    "pycharm": {
     "name": "#%%\n"
    }
   }
  }
 ],
 "metadata": {
  "kernelspec": {
   "display_name": "Python 3",
   "language": "python",
   "name": "python3"
  },
  "language_info": {
   "codemirror_mode": {
    "name": "ipython",
    "version": 2
   },
   "file_extension": ".py",
   "mimetype": "text/x-python",
   "name": "python",
   "nbconvert_exporter": "python",
   "pygments_lexer": "ipython2",
   "version": "2.7.6"
  }
 },
 "nbformat": 4,
 "nbformat_minor": 0
}