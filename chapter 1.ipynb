{
 "cells": [
  {
   "cell_type": "code",
   "execution_count": 5,
   "metadata": {
    "collapsed": true
   },
   "outputs": [
    {
     "name": "stdout",
     "output_type": "stream",
     "text": [
      "False\n"
     ]
    }
   ],
   "source": [
    " # is leap year\n",
    "year = 2022\n",
    "is_leap_year = (year %400 == 0)or(year % 4 ==0 )and (year %100 != 0)\n",
    "print(is_leap_year)"
   ]
  },
  {
   "cell_type": "code",
   "execution_count": 9,
   "outputs": [
    {
     "name": "stdout",
     "output_type": "stream",
     "text": [
      "12 11\n",
      "11 12\n",
      "12 11\n"
     ]
    }
   ],
   "source": [
    "# switch variable value\n",
    "\n",
    "val1 = 12\n",
    "val2 = 11\n",
    "# 1\n",
    "print(val1,val2)\n",
    "temp = val2\n",
    "val2 = val1\n",
    "val1 = temp\n",
    "print(val1,val2)\n",
    "\n",
    "#2 元祖赋值\n",
    "val1,val2 = val2,val1\n",
    "print(val1,val2)"
   ],
   "metadata": {
    "collapsed": false,
    "pycharm": {
     "name": "#%%\n"
    }
   }
  },
  {
   "cell_type": "code",
   "execution_count": null,
   "outputs": [],
   "source": [],
   "metadata": {
    "collapsed": false,
    "pycharm": {
     "name": "#%%\n"
    }
   }
  }
 ],
 "metadata": {
  "kernelspec": {
   "display_name": "Python 3",
   "language": "python",
   "name": "python3"
  },
  "language_info": {
   "codemirror_mode": {
    "name": "ipython",
    "version": 2
   },
   "file_extension": ".py",
   "mimetype": "text/x-python",
   "name": "python",
   "nbconvert_exporter": "python",
   "pygments_lexer": "ipython2",
   "version": "2.7.6"
  }
 },
 "nbformat": 4,
 "nbformat_minor": 0
}